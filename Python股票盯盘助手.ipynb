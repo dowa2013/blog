{
 "cells": [
  {
   "cell_type": "code",
   "execution_count": 100,
   "metadata": {},
   "outputs": [],
   "source": [
    "import tushare as ts\n",
    "import itchat, time\n",
    "from itchat.content import TEXT\n",
    "import datetime\n"
   ]
  },
  {
   "cell_type": "code",
   "execution_count": null,
   "metadata": {},
   "outputs": [
    {
     "name": "stderr",
     "output_type": "stream",
     "text": [
      "LOG OUT!\n",
      "Please press confirm on your phone.\n",
      "Log in time out, reloading QR code.\n",
      "Please press confirm on your phone.\n",
      "Log in time out, reloading QR code.\n",
      "Please press confirm on your phone.\n",
      "Log in time out, reloading QR code.\n",
      "Please press confirm on your phone.\n"
     ]
    }
   ],
   "source": [
    "\n",
    "itchat.logout()\n",
    "itchat.auto_login(hotReload=True)"
   ]
  },
  {
   "cell_type": "code",
   "execution_count": 104,
   "metadata": {},
   "outputs": [],
   "source": [
    "#定义股票列表，格式为【‘股票名称_股票代码_建仓价格_数量’】，可建多个仓位\n",
    "#stock_list=['中科曙光_603019_44.836_200','大华股份_002236_12.830_100','掌阅科技_603533_19.370_100','紫光股份_000938_35.850_100']\n",
    "#计算函数，通过给定的股票列表，获取实时行情信息，并计算收益情况\n",
    "def earnings(stock_list):\n",
    "    message=nowTime+\"收益播报：\\r\\n\"+\"\\n\"\n",
    "    #获取上证指数\n",
    "    sh=ts.get_realtime_quotes('sh')\n",
    "    sh_pro=float(sh.to_dict()['price'][0])-float(sh.to_dict()['pre_close'][0])\n",
    "    message+=\"{}\\t{}\\t{}\\t{}\".format(\"上证指数\",str(round(float(sh.to_dict()['price'][0]),2)),str(round(sh_pro,3)),sh.to_dict()['time'][0])+\"\\r\\n\"\n",
    "    #message+=sh.to_dict()['name'][0]+\"\\t\"+sh.to_dict()['price'][0]+\"\\t\"+str(round(sh_pro,4))+\"\\t\"+sh.to_dict()['time'][0]+\"\\r\\n\"\n",
    "    pro_sum=0.000\n",
    "    string=\"\"\n",
    "    #遍历股票列表，分割出股票的名称，代码，价格，数量\n",
    "    for stock in stock_list:\n",
    "        #名称\n",
    "        stock_name=stock.split(\"_\")[0]\n",
    "        #代码\n",
    "        stock_code=stock.split(\"_\")[1]\n",
    "        #价格\n",
    "        stock_price=stock.split(\"_\")[2]\n",
    "        #数量\n",
    "        stock_num=stock.split(\"_\")[3]\n",
    "        \n",
    "        #通过ts获取股票实时信息\n",
    "        df = ts.get_realtime_quotes(stock_code)\n",
    "        \n",
    "        #计算收益\n",
    "        profit=(float(df['price'])-float(stock_price))*int(stock_num)\n",
    "        pro_sum+=profit\n",
    "        \n",
    "        #写成报告\n",
    "        str_pro=\"{}\\t{}\\t{}\\t{}\".format(stock_name,str(round(float(df.to_dict()['price'][0]),2)),str(round(profit,4)),df.to_dict()['time'][0])\n",
    "        #str_pro=stock_name+\"\\t\"+str(round(float(df.to_dict()['price'][0]),2))+\"\\t\"+str(round(profit,4))+\"\\t\"+df.to_dict()['time'][0]\n",
    "        message+=str_pro+\"\\r\\n\"\n",
    "    sh=ts.get_realtime_quotes('sh')\n",
    "    \n",
    "    message+='总盈亏为： '+str(round(pro_sum,4))\n",
    "    return message\n",
    "  "
   ]
  },
  {
   "cell_type": "code",
   "execution_count": 105,
   "metadata": {},
   "outputs": [
    {
     "name": "stdout",
     "output_type": "stream",
     "text": [
      "2018-11-01 16:06:49收益播报：\n",
      "\n",
      "上证指数\t2606.24\t3.454\t15:28:03\n",
      "中科曙光\t43.48\t-271.2\t15:00:00\n",
      "大华股份\t11.85\t-98.0\t15:28:03\n",
      "掌阅科技\t19.35\t-2.0\t15:00:00\n",
      "紫光股份\t34.66\t-119.0\t15:28:03\n",
      "总盈亏为： -490.2\n",
      "2018-11-01 16:06:49收益播报：\n",
      "\n",
      "上证指数\t2606.24\t3.454\t15:28:03\n",
      "中科曙光\t43.48\t-271.2\t15:00:00\n",
      "大华股份\t11.85\t-98.0\t15:28:03\n",
      "掌阅科技\t19.35\t-2.0\t15:00:00\n",
      "紫光股份\t34.66\t-119.0\t15:28:03\n",
      "总盈亏为： -490.2\n"
     ]
    },
    {
     "ename": "KeyboardInterrupt",
     "evalue": "",
     "output_type": "error",
     "traceback": [
      "\u001b[1;31m---------------------------------------------------------------------------\u001b[0m",
      "\u001b[1;31mKeyboardInterrupt\u001b[0m                         Traceback (most recent call last)",
      "\u001b[1;32m<ipython-input-105-3d0b71d9e525>\u001b[0m in \u001b[0;36m<module>\u001b[1;34m()\u001b[0m\n\u001b[0;32m      4\u001b[0m     \u001b[0mprint\u001b[0m\u001b[1;33m(\u001b[0m\u001b[0mstring\u001b[0m\u001b[1;33m)\u001b[0m\u001b[1;33m\u001b[0m\u001b[0m\n\u001b[0;32m      5\u001b[0m     \u001b[0mitchat\u001b[0m\u001b[1;33m.\u001b[0m\u001b[0msend\u001b[0m\u001b[1;33m(\u001b[0m\u001b[0mmsg\u001b[0m\u001b[1;33m=\u001b[0m\u001b[0mstring\u001b[0m\u001b[1;33m,\u001b[0m \u001b[0mtoUserName\u001b[0m\u001b[1;33m=\u001b[0m\u001b[1;34m\"filehelper\"\u001b[0m\u001b[1;33m)\u001b[0m\u001b[1;33m\u001b[0m\u001b[0m\n\u001b[1;32m----> 6\u001b[1;33m     \u001b[0mtime\u001b[0m\u001b[1;33m.\u001b[0m\u001b[0msleep\u001b[0m\u001b[1;33m(\u001b[0m\u001b[1;36m5\u001b[0m\u001b[1;33m)\u001b[0m\u001b[1;33m\u001b[0m\u001b[0m\n\u001b[0m",
      "\u001b[1;31mKeyboardInterrupt\u001b[0m: "
     ]
    }
   ],
   "source": [
    "stock_list1=['中科曙光_603019_44.836_200','大华股份_002236_12.830_100','掌阅科技_603533_19.370_100','紫光股份_000938_35.850_100']\n",
    "while True:\n",
    "    nowTime=datetime.datetime.now().strftime('%Y-%m-%d %H:%M:%S')#现在\n",
    "    string = earnings(stock_list1)\n",
    "    print(string)\n",
    "    #通过微信助手发送给自己\n",
    "    itchat.send(msg=string, toUserName=\"filehelper\")\n",
    "    #设置间隔时间（秒）\n",
    "    time.sleep(60)"
   ]
  }
 ],
 "metadata": {
  "kernelspec": {
   "display_name": "Python 3",
   "language": "python",
   "name": "python3"
  }
 },
 "nbformat": 4,
 "nbformat_minor": 2
}
